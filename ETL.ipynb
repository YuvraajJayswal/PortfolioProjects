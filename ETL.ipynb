{
 "cells": [
  {
   "cell_type": "code",
   "execution_count": 1,
   "metadata": {},
   "outputs": [
    {
     "name": "stdout",
     "output_type": "stream",
     "text": [
      "Collecting petl\n",
      "  Downloading petl-1.7.14.tar.gz (411 kB)\n",
      "     -------------------------------------- 411.7/411.7 kB 1.2 MB/s eta 0:00:00\n",
      "  Installing build dependencies: started\n",
      "  Installing build dependencies: finished with status 'done'\n",
      "  Getting requirements to build wheel: started\n",
      "  Getting requirements to build wheel: finished with status 'done'\n",
      "  Preparing metadata (pyproject.toml): started\n",
      "  Preparing metadata (pyproject.toml): finished with status 'done'\n",
      "Building wheels for collected packages: petl\n",
      "  Building wheel for petl (pyproject.toml): started\n",
      "  Building wheel for petl (pyproject.toml): finished with status 'done'\n",
      "  Created wheel for petl: filename=petl-1.7.14-py3-none-any.whl size=229771 sha256=dd901f19e3fedde4a8e2b3032faf9a9bec1b7ca44075c4188154492f88eef816\n",
      "  Stored in directory: c:\\users\\hp\\appdata\\local\\pip\\cache\\wheels\\71\\0b\\8b\\aaa862db0638ab059cacc3d1b33edacb853e88285f9f7cb3d4\n",
      "Successfully built petl\n",
      "Installing collected packages: petl\n",
      "Successfully installed petl-1.7.14\n",
      "Note: you may need to restart the kernel to use updated packages.\n"
     ]
    }
   ],
   "source": [
    "pip install petl"
   ]
  },
  {
   "cell_type": "code",
   "execution_count": 3,
   "metadata": {},
   "outputs": [
    {
     "name": "stdout",
     "output_type": "stream",
     "text": [
      "Collecting pymssql\n",
      "  Downloading pymssql-2.2.10-cp310-cp310-win_amd64.whl (2.0 MB)\n",
      "     ---------------------------------------- 2.0/2.0 MB 1.3 MB/s eta 0:00:00\n",
      "Installing collected packages: pymssql\n",
      "Successfully installed pymssql-2.2.10\n",
      "Note: you may need to restart the kernel to use updated packages.\n"
     ]
    }
   ],
   "source": [
    "pip install pymssql"
   ]
  },
  {
   "cell_type": "code",
   "execution_count": 76,
   "metadata": {},
   "outputs": [],
   "source": [
    "# importing libraries\n",
    "import os\n",
    "import petl\n",
    "import pymssql\n",
    "import configparser\n",
    "import requests\n",
    "import datetime\n",
    "import json\n",
    "import decimal\n",
    "import sys\n"
   ]
  },
  {
   "cell_type": "markdown",
   "metadata": {},
   "source": [
    "EXTRACT"
   ]
  },
  {
   "cell_type": "code",
   "execution_count": 58,
   "metadata": {},
   "outputs": [],
   "source": [
    "# get data from config File\n",
    "config = configparser.ConfigParser()\n",
    "try:\n",
    "    config.read('config.ini')\n",
    "except Exception as e:\n",
    "    print(\"Could not read Configuration File\" + str(e))\n",
    "    sys.exit()"
   ]
  },
  {
   "cell_type": "code",
   "execution_count": 59,
   "metadata": {},
   "outputs": [],
   "source": [
    "# read settings from configuration file\n",
    "startdate = config['CONFIG']['startdate']\n",
    "url = config['CONFIG']['url']\n",
    "destServer = config['CONFIG']['server']\n",
    "destDatabase = config['CONFIG']['database']"
   ]
  },
  {
   "cell_type": "code",
   "execution_count": 60,
   "metadata": {},
   "outputs": [],
   "source": [
    "# request data form url\n",
    "try:\n",
    "    BOCResponse = requests.get(url+startdate)\n",
    "except Exception as e:\n",
    "    print(\"Could not make request\"+ str(e))\n",
    "    sys.exit()"
   ]
  },
  {
   "cell_type": "code",
   "execution_count": 61,
   "metadata": {},
   "outputs": [],
   "source": [
    "# initialize list of lists for data storage\n",
    "\n",
    "BOCDates = []\n",
    "BOCRates = []"
   ]
  },
  {
   "cell_type": "markdown",
   "metadata": {},
   "source": [
    "TRANSFORM"
   ]
  },
  {
   "cell_type": "code",
   "execution_count": 62,
   "metadata": {},
   "outputs": [],
   "source": [
    "# check response status and process BOC JSON object\n",
    "if (BOCResponse.status_code == 200):\n",
    "    BOCRaw = json.loads(BOCResponse.text)\n",
    "\n",
    "    # extract observation data in column array\n",
    "    for row in BOCRaw['observations']:\n",
    "        BOCDates.append(datetime.datetime.strptime(row['d'], \"%Y-%m-%d\"))\n",
    "        BOCRates.append(decimal.Decimal(row['FXUSDCAD']['v']))\n",
    "\n",
    "    # create a petl table form column array and rename to columns\n",
    "    exchange_rate = petl.fromcolumns([BOCDates, BOCRates], header= ['date', 'rate'])\n",
    "    \n",
    "    # load expense date\n",
    "    try:\n",
    "        expenses = petl.io.xlsx.fromxlsx('Expenses.xlsx', sheet = 'Github')\n",
    "    except Exception as e:\n",
    "        print('Could not load data'+ str(e))\n",
    "        sys.exit()\n",
    "    \n",
    "    # join tables\n",
    "    expenses = petl.outerjoin(exchange_rate, expenses, key = \"date\")\n",
    "    \n",
    "    # filling missing values in expenses\n",
    "    expenses = petl.filldown(expenses, 'rate')\n",
    "    \n",
    "    # remove dates with no expenses\n",
    "    expenses = petl.select(expenses, lambda rec: rec.USD != None)\n",
    "    \n",
    "    # add CAD column\n",
    "    expenses = petl.addfield(expenses, 'CAD', lambda rec: decimal.Decimal(rec.USD)*rec.rate)\n",
    "    "
   ]
  },
  {
   "cell_type": "markdown",
   "metadata": {},
   "source": [
    "LOAD"
   ]
  },
  {
   "cell_type": "code",
   "execution_count": null,
   "metadata": {},
   "outputs": [],
   "source": [
    "# initialize database connection\n",
    "try:\n",
    "    dbconnection = pymssql.connect(server = destServer, database = destDatabase)\n",
    "except Exception as e:\n",
    "    print('Could not connect with database:'+str(e))\n",
    "    sys.exit()\n"
   ]
  },
  {
   "cell_type": "code",
   "execution_count": null,
   "metadata": {},
   "outputs": [],
   "source": [
    "#populate expenses database tables\n",
    "try:\n",
    "    petl.io.todb(expenses, dbconnection, 'Expenses')\n",
    "except Exception as e:\n",
    "    print('Could not populate table'+str(e))\n",
    "    "
   ]
  }
 ],
 "metadata": {
  "kernelspec": {
   "display_name": "base",
   "language": "python",
   "name": "python3"
  },
  "language_info": {
   "codemirror_mode": {
    "name": "ipython",
    "version": 3
   },
   "file_extension": ".py",
   "mimetype": "text/x-python",
   "name": "python",
   "nbconvert_exporter": "python",
   "pygments_lexer": "ipython3",
   "version": "3.10.9"
  }
 },
 "nbformat": 4,
 "nbformat_minor": 2
}
